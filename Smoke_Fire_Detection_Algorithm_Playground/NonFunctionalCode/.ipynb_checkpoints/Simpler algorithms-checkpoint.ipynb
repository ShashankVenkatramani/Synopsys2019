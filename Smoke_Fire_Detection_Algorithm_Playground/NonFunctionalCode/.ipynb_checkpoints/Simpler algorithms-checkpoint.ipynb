{
 "cells": [
  {
   "attachments": {},
   "cell_type": "markdown",
   "metadata": {},
   "source": [
    "\t- Finish current filter code to ZOOM IN on the area with smoke, select that, and send to the CNN\n",
    "\t- CNN uses color vals and stuff from the smoke images to then CONFIRM that the image actually contains SMOKE and FIRE!\n",
    "\t- If it does not detect fire, check the 'gradient' or slope of the smoke, go down in the original a certain amount according to the slope, then redetect to find the origin\n",
    "\t- END GOAL : Find the origin of the fire in the current frame and bounding box it, also bounding box the smoke\n",
    "\t- Explain logic behind why we look for the smoke first, then look for the fire (smoke bigger, etc…)\n",
    "\t- Also implement detection of motion"
   ]
  },
  {
   "cell_type": "code",
   "execution_count": 1,
   "metadata": {},
   "outputs": [],
   "source": [
    "import time\n",
    "import cv2\n",
    "\n",
    "import opencv_color_detect as PROCESS  \n",
    "\n",
    "def show_images(images,text,MODE):          \n",
    "  # show the frame\n",
    "  cv2.putText(images[MODE], \"%s:%s\" %(MODE,text[MODE]), (10,20),\n",
    "              cv2.FONT_HERSHEY_SIMPLEX, 0.5, (255,255,255), 2)\n",
    "  cv2.imshow(\"Frame\", images[MODE])\n"
   ]
  },
  {
   "cell_type": "code",
   "execution_count": 2,
   "metadata": {},
   "outputs": [],
   "source": [
    "def detect(live, filename=None):\n",
    "    if (live):\n",
    "        conductLive()\n",
    "    elif (filename == None):\n",
    "        print(\"No file specified, not live\")\n",
    "    else:\n",
    "        print(\"Detecting on \" + filename)\n",
    "        img = cv2.imread(filename)\n",
    "        detectSmoke(img)"
   ]
  },
  {
   "cell_type": "code",
   "execution_count": 3,
   "metadata": {},
   "outputs": [],
   "source": [
    "def conductLive():\n",
    "    vc = cv2.VideoCapture(0)\n",
    "\n",
    "    if vc.isOpened(): \n",
    "        rval, frame = vc.read()\n",
    "    else:\n",
    "        rval = False\n",
    "        \n",
    "        \n",
    "    while rval:\n",
    "        \n",
    "        print(\"Live\")\n",
    "        \n",
    "        detectSmoke(frame)\n",
    "        \n",
    "        key = cv2.waitKey(1) & 0xFF\n",
    "        \n",
    "        images, text = PROCESS.process_image(frame,key)\n",
    "    \n",
    "        if key > 0: # Exit by pressing any key\n",
    "            # Destroy windows \n",
    "            cv2.destroyAllWindows()\n",
    "\n",
    "            # Make sure window closes on OSx\n",
    "            for i in range (1,5):\n",
    "                cv2.waitKey(1)\n",
    "            return SRC\n",
    "\n",
    "        # Read next frame\n",
    "        time.sleep(0.05)             # control framerate for computation - default 20 frames per sec\n",
    "        rval, frame = vc.read()\n",
    "        \n",
    "        \n",
    "        \n",
    "'''\n",
    "# TO IMPLEMENT!!!        \n",
    "# USE HELPER METHODS IN OTHER\n",
    "REFER TO https://github.com/TreasureIcha/FireDetectorProject/blob/master/opencv_display.py\n",
    "'''\n",
    "\n",
    "\n",
    "def detectSmoke(img):\n",
    "    print(\"Detection!\")\n",
    "    key = cv2.waitKey(1) & 0xFF\n",
    "    images, text = PROCESS.process_image(img,key)\n",
    "    \n",
    "    #Change display mode or quit\n",
    "    if key == ord(\"m\"):\n",
    "        MODE=MODE%len(images)\n",
    "    elif key == ord(\"q\"):\n",
    "        print(\"Quit\")\n",
    "        \n",
    "\n",
    "  #Display the output images\n",
    "    show_images(images,text,MODE)\n",
    "    "
   ]
  },
  {
   "cell_type": "code",
   "execution_count": 4,
   "metadata": {},
   "outputs": [
    {
     "name": "stdout",
     "output_type": "stream",
     "text": [
      "Starting camera\n",
      "Live\n"
     ]
    },
    {
     "ename": "TypeError",
     "evalue": "mat is not a numpy array, neither a scalar",
     "output_type": "error",
     "traceback": [
      "\u001b[1;31m---------------------------------------------------------------------------\u001b[0m",
      "\u001b[1;31mTypeError\u001b[0m                                 Traceback (most recent call last)",
      "\u001b[1;32m<ipython-input-4-5962ab8f7a0e>\u001b[0m in \u001b[0;36m<module>\u001b[1;34m()\u001b[0m\n\u001b[0;32m     47\u001b[0m       \u001b[1;31m# clear the stream in preparation for the next frame\u001b[0m\u001b[1;33m\u001b[0m\u001b[1;33m\u001b[0m\u001b[0m\n\u001b[0;32m     48\u001b[0m \u001b[1;33m\u001b[0m\u001b[0m\n\u001b[1;32m---> 49\u001b[1;33m \u001b[0mbegin_capture\u001b[0m\u001b[1;33m(\u001b[0m\u001b[1;33m)\u001b[0m\u001b[1;33m\u001b[0m\u001b[0m\n\u001b[0m",
      "\u001b[1;32m<ipython-input-4-5962ab8f7a0e>\u001b[0m in \u001b[0;36mbegin_capture\u001b[1;34m()\u001b[0m\n\u001b[0;32m     25\u001b[0m \u001b[1;33m\u001b[0m\u001b[0m\n\u001b[0;32m     26\u001b[0m         \u001b[0mimages\u001b[0m\u001b[1;33m,\u001b[0m \u001b[0mtext\u001b[0m \u001b[1;33m=\u001b[0m \u001b[0mPROCESS\u001b[0m\u001b[1;33m.\u001b[0m\u001b[0mprocess_image\u001b[0m\u001b[1;33m(\u001b[0m\u001b[0mframe\u001b[0m\u001b[1;33m,\u001b[0m\u001b[0mkey\u001b[0m\u001b[1;33m)\u001b[0m\u001b[1;33m\u001b[0m\u001b[0m\n\u001b[1;32m---> 27\u001b[1;33m         \u001b[0mcv2\u001b[0m\u001b[1;33m.\u001b[0m\u001b[0mimshow\u001b[0m\u001b[1;33m(\u001b[0m\u001b[1;34m\"img\"\u001b[0m\u001b[1;33m,\u001b[0m \u001b[0mimages\u001b[0m\u001b[1;33m)\u001b[0m\u001b[1;33m\u001b[0m\u001b[0m\n\u001b[0m\u001b[0;32m     28\u001b[0m         \u001b[0mcv2\u001b[0m\u001b[1;33m.\u001b[0m\u001b[0mimshow\u001b[0m\u001b[1;33m(\u001b[0m\u001b[1;34m\"frame\"\u001b[0m\u001b[1;33m,\u001b[0m \u001b[0mframe\u001b[0m\u001b[1;33m)\u001b[0m\u001b[1;33m\u001b[0m\u001b[0m\n\u001b[0;32m     29\u001b[0m \u001b[1;33m\u001b[0m\u001b[0m\n",
      "\u001b[1;31mTypeError\u001b[0m: mat is not a numpy array, neither a scalar"
     ]
    }
   ],
   "source": [
    "import opencv_color_detect as PROCESS  \n",
    "\n",
    "def show_images(images,text,MODE):          \n",
    "  # show the frame\n",
    "  cv2.putText(images[MODE], \"%s:%s\" %(MODE,text[MODE]), (10,20),\n",
    "              cv2.FONT_HERSHEY_SIMPLEX, 0.5, (255,255,255), 2)\n",
    "  cv2.imshow(\"Frame\", images[MODE])\n",
    "\n",
    "def begin_capture():\n",
    "    print(\"Starting camera\")\n",
    "    MODE = 0\n",
    "    \n",
    "    \n",
    "    vc = cv2.VideoCapture(0)\n",
    "\n",
    "    if vc.isOpened(): \n",
    "        rval, frame = vc.read()\n",
    "    else:\n",
    "        rval = False\n",
    "\n",
    "    while rval:\n",
    "        print(\"Live\")\n",
    "        \n",
    "        key = cv2.waitKey(1) & 0xFF\n",
    "        \n",
    "        images, text = PROCESS.process_image(frame,key)\n",
    "        cv2.imshow(\"img\", images)\n",
    "        cv2.imshow(\"frame\", frame)\n",
    "    \n",
    "        if cv2.waitKey(0): # Exit by pressing esc?\n",
    "            # Destroy windows \n",
    "            cv2.destroyAllWindows()\n",
    "\n",
    "            # Make sure window closes on OSx\n",
    "            for i in range (1,5):\n",
    "                cv2.waitKey(1)\n",
    "            return\n",
    "\n",
    "        # Read next frame\n",
    "        time.sleep(0.05)             # control framerate for computation - default 20 frames per sec\n",
    "        rval, frame = vc.read()\n",
    " \n",
    "\t# grab the raw NumPy array representing the image\n",
    "      #Display the output images\n",
    "        show_images(images,text,MODE)\n",
    "\n",
    "      # clear the stream in preparation for the next frame\n",
    "\n",
    "begin_capture()"
   ]
  }
 ],
 "metadata": {
  "kernelspec": {
   "display_name": "Python 3",
   "language": "python",
   "name": "python3"
  },
  "language_info": {
   "codemirror_mode": {
    "name": "ipython",
    "version": 3
   },
   "file_extension": ".py",
   "mimetype": "text/x-python",
   "name": "python",
   "nbconvert_exporter": "python",
   "pygments_lexer": "ipython3",
   "version": "3.5.6"
  },
  "widgets": {
   "state": {},
   "version": "1.1.2"
  }
 },
 "nbformat": 4,
 "nbformat_minor": 2
}
